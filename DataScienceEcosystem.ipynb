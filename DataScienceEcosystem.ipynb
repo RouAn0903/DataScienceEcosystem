{
  "metadata": {
    "kernelspec": {
      "name": "python",
      "display_name": "Python (Pyodide)",
      "language": "python"
    },
    "language_info": {
      "codemirror_mode": {
        "name": "python",
        "version": 3
      },
      "file_extension": ".py",
      "mimetype": "text/x-python",
      "name": "python",
      "nbconvert_exporter": "python",
      "pygments_lexer": "ipython3",
      "version": "3.8"
    }
  },
  "nbformat_minor": 5,
  "nbformat": 4,
  "cells": [
    {
      "id": "b0514c39-41ac-4c92-9be1-12a1f80a67e4",
      "cell_type": "markdown",
      "source": "# Data Science Tools and Ecosystem",
      "metadata": {}
    },
    {
      "id": "0a5ab033-2888-409c-be41-d8cb5d1fc249",
      "cell_type": "markdown",
      "source": "In this notebook, Data Science Tools and Ecosystem are summarized.",
      "metadata": {}
    },
    {
      "id": "5ada419f-3199-490a-8b90-e5116c93ac80",
      "cell_type": "markdown",
      "source": "Some of the popular languages that Data Scientists use are:\n1. Python\n2. R\n3. SQL",
      "metadata": {}
    },
    {
      "id": "83bd90fb-bf55-4b9a-9524-64a68d821ca6",
      "cell_type": "markdown",
      "source": "Some of the commonly used libraries used by Data Scientists include:\n1. NumPy\n2. Keras\n3. Pandas",
      "metadata": {}
    },
    {
      "id": "798c1198-a2e9-44d7-8cdc-65316a2d5875",
      "cell_type": "markdown",
      "source": "| Data Science Tools |\n| ------------------ |\n| RStudio |\n| Apache Spark |\n| TensorFlow |",
      "metadata": {}
    },
    {
      "id": "ca0f0987-298e-413a-a0df-664fe1929e42",
      "cell_type": "markdown",
      "source": "### Below are a few examples of evaluating arithmetic expressions in Python",
      "metadata": {}
    },
    {
      "id": "271b6ccd-a3bc-4ad3-81b9-4073d6e7e63a",
      "cell_type": "code",
      "source": "# This a simple arithmetic expression to mutiply then add integers\n(3*4)+5",
      "metadata": {
        "trusted": true
      },
      "outputs": [
        {
          "execution_count": 2,
          "output_type": "execute_result",
          "data": {
            "text/plain": "17"
          },
          "metadata": {}
        }
      ],
      "execution_count": 2
    },
    {
      "id": "3f74168d-ee41-4b1f-b760-a7146f9281a6",
      "cell_type": "code",
      "source": "#  This will convert 200 minutes to hours by diving by 60\n200/60 ",
      "metadata": {
        "trusted": true
      },
      "outputs": [
        {
          "execution_count": 9,
          "output_type": "execute_result",
          "data": {
            "text/plain": "3.3333333333333335"
          },
          "metadata": {}
        }
      ],
      "execution_count": 9
    },
    {
      "id": "27b5e48c-01d1-44ed-9a6d-8da6e2780129",
      "cell_type": "markdown",
      "source": "__Objectives__\n* Python\n* R\n* SQL",
      "metadata": {}
    },
    {
      "id": "9a13b3e1-41a5-44e4-9460-90f55ed8cd13",
      "cell_type": "markdown",
      "source": "## Author\nRoro",
      "metadata": {}
    },
    {
      "id": "b599da3a-9dce-45dc-a5fa-faa0516bd15c",
      "cell_type": "code",
      "source": "",
      "metadata": {
        "trusted": true
      },
      "outputs": [],
      "execution_count": null
    }
  ]
}